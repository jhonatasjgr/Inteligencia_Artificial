{
  "cells": [
    {
      "cell_type": "markdown",
      "metadata": {
        "id": "1vyh5I_o71TA"
      },
      "source": [
        "# Classificação com Árvore de Decisão\n",
        "## Dataset: Breast Cancer\n",
        "Nesta atividade, você irá explorar um conjunto de dados real de diagnóstico de câncer de mama, utilizando um classificador baseado em árvore de decisão.\n",
        "\n",
        "**Objetivos:**\n",
        "- Carregar e explorar o conjunto de dados [`breast_cancer`](https://www.kaggle.com/datasets/yasserh/breast-cancer-dataset)\n",
        "- Treinar uma Árvore de Decisão (`DecisionTreeClassifier`)\n",
        "- Avaliar o desempenho do modelo\n",
        "- Visualizar a árvore gerada\n"
      ],
      "id": "1vyh5I_o71TA"
    },
    {
      "cell_type": "code",
      "metadata": {
        "id": "VAC9sj4X71TD"
      },
      "execution_count": 1,
      "outputs": [],
      "source": [
        "# bibliotecas\n",
        "import numpy as np\n",
        "import pandas as pd\n",
        "import matplotlib.pyplot as plt\n",
        "from sklearn.datasets import load_breast_cancer\n",
        "from sklearn.model_selection import train_test_split\n",
        "from sklearn.tree import DecisionTreeClassifier, plot_tree\n",
        "from sklearn.metrics import classification_report, confusion_matrix, accuracy_score"
      ],
      "id": "VAC9sj4X71TD"
    },
    {
      "cell_type": "code",
      "metadata": {
        "id": "0Dv7BElt71TE"
      },
      "execution_count": 2,
      "outputs": [],
      "source": [
        "# Carregar o dataset\n",
        "data = load_breast_cancer()\n",
        "X = pd.DataFrame(data.data, columns=data.feature_names)\n",
        "y = pd.Series(data.target)"
      ],
      "id": "0Dv7BElt71TE"
    },
    {
      "cell_type": "markdown",
      "metadata": {
        "id": "e-k8x2xz71TF"
      },
      "source": [
        "## Tarefa 1: Análise exploratória\n",
        "- Qual o formato dos dados?\n",
        "- Quantas classes existem? Qual o balanceamento?\n",
        "- Qual a média e desvio padrão das principais variáveis?"
      ],
      "id": "e-k8x2xz71TF"
    },
    {
      "cell_type": "code",
      "metadata": {
        "id": "5o55gUSZ71TF"
      },
      "execution_count": null,
      "outputs": [],
      "source": [],
      "id": "5o55gUSZ71TF"
    },
    {
      "cell_type": "markdown",
      "metadata": {
        "id": "lBXPhnbz71TG"
      },
      "source": [
        "## Tarefa 2: Separar dados de treino e teste\n",
        "- Separe os dados em 80% treino e 20% teste\n",
        "- Use `random_state=42` para reprodutibilidade"
      ],
      "id": "lBXPhnbz71TG"
    },
    {
      "cell_type": "code",
      "metadata": {
        "id": "RX9vrRRY71TG"
      },
      "execution_count": null,
      "outputs": [],
      "source": [],
      "id": "RX9vrRRY71TG"
    },
    {
      "cell_type": "markdown",
      "metadata": {
        "id": "s3xak8Ps71TH"
      },
      "source": [
        "## Tarefa 3: Treinar o modelo de Árvore de Decisão\n",
        "- Use `DecisionTreeClassifier(max_depth=5)`\n",
        "- Treine com os dados de treino"
      ],
      "id": "s3xak8Ps71TH"
    },
    {
      "cell_type": "code",
      "metadata": {
        "id": "JUqT8f6h71TH"
      },
      "execution_count": null,
      "outputs": [],
      "source": [],
      "id": "JUqT8f6h71TH"
    },
    {
      "cell_type": "markdown",
      "metadata": {
        "id": "VDKVY5AH71TI"
      },
      "source": [
        "## Tarefa 4: Avaliação do Modelo\n",
        "- Calcule acurácia, precissão, recall e f1-score no conjunto de teste\n",
        "- Exiba a matriz de confusão"
      ],
      "id": "VDKVY5AH71TI"
    },
    {
      "cell_type": "code",
      "metadata": {
        "id": "m2reOb3E71TI"
      },
      "execution_count": null,
      "outputs": [],
      "source": [],
      "id": "m2reOb3E71TI"
    },
    {
      "cell_type": "markdown",
      "metadata": {
        "id": "cv1Jno8a71TJ"
      },
      "source": [
        "## Tarefa 5: Visualizar a Árvore\n",
        "- Use `plot_tree` para desenhar a árvore de decisão\n",
        "- Mostre nomes das features e classes"
      ],
      "id": "cv1Jno8a71TJ"
    },
    {
      "cell_type": "code",
      "metadata": {
        "id": "7njUzhuc71TJ"
      },
      "execution_count": null,
      "outputs": [],
      "source": [],
      "id": "7njUzhuc71TJ"
    }
  ],
  "metadata": {
    "kernelspec": {
      "display_name": "Python 3",
      "language": "python",
      "name": "python3"
    },
    "language_info": {
      "name": "python"
    },
    "colab": {
      "provenance": []
    }
  },
  "nbformat": 4,
  "nbformat_minor": 5
}