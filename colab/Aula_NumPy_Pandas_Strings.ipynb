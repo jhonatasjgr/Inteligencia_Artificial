{
  "cells": [
    {
      "cell_type": "markdown",
      "id": "e11ba329",
      "metadata": {
        "id": "e11ba329"
      },
      "source": [
        "# NumPy, Pandas e Manipulação de Strings"
      ]
    },
    {
      "cell_type": "markdown",
      "id": "e0bb9f0b",
      "metadata": {
        "id": "e0bb9f0b"
      },
      "source": [
        "## Parte 1 – NumPy (Biblioteca Numérica)\n",
        "NumPy é uma biblioteca usada para trabalhar com arrays (listas de listas), cálculos matemáticos e vetores de forma rápida e eficiente."
      ]
    },
    {
      "cell_type": "code",
      "execution_count": 1,
      "id": "cc760487",
      "metadata": {
        "colab": {
          "base_uri": "https://localhost:8080/"
        },
        "id": "cc760487",
        "outputId": "e9fbf23f-0bf4-4db9-c665-d7be3ebb82cb"
      },
      "outputs": [
        {
          "output_type": "stream",
          "name": "stdout",
          "text": [
            "Lista comum: [1, 2, 3, 4]\n",
            "Array NumPy: [1 2 3 4]\n",
            "Tipo: <class 'numpy.ndarray'>\n"
          ]
        }
      ],
      "source": [
        "import numpy as np\n",
        "\n",
        "# Criando uma lista normal\n",
        "lista = [1, 2, 3, 4]\n",
        "print(\"Lista comum:\", lista)\n",
        "\n",
        "# Criando um array NumPy\n",
        "arr = np.array([1, 2, 3, 4])\n",
        "print(\"Array NumPy:\", arr)\n",
        "print(\"Tipo:\", type(arr))"
      ]
    },
    {
      "cell_type": "code",
      "execution_count": 2,
      "id": "5fb7e80a",
      "metadata": {
        "colab": {
          "base_uri": "https://localhost:8080/"
        },
        "id": "5fb7e80a",
        "outputId": "8fcac1f0-63ca-4051-c93f-f82580c3c6c2"
      },
      "outputs": [
        {
          "output_type": "stream",
          "name": "stdout",
          "text": [
            "Matriz 2x2:\n",
            "[[1 2]\n",
            " [3 4]]\n",
            "Shape (formato): (2, 2)\n"
          ]
        }
      ],
      "source": [
        "# Arrays podem ter mais de uma dimensão\n",
        "matriz = np.array([[1, 2], [3, 4]])\n",
        "print(\"Matriz 2x2:\")\n",
        "print(matriz)\n",
        "print(\"Shape (formato):\", matriz.shape)"
      ]
    },
    {
      "cell_type": "code",
      "execution_count": 4,
      "id": "36293909",
      "metadata": {
        "colab": {
          "base_uri": "https://localhost:8080/"
        },
        "id": "36293909",
        "outputId": "baaad5fd-8e2a-422d-953d-ac5c47f9830c"
      },
      "outputs": [
        {
          "output_type": "stream",
          "name": "stdout",
          "text": [
            "[1 2 3 4]\n",
            "Dobro de cada elemento: [2 4 6 8]\n",
            "Quadrado de cada elemento: [ 1  4  9 16]\n"
          ]
        }
      ],
      "source": [
        "# Operações vetorizadas (sem for)\n",
        "print(arr)\n",
        "\n",
        "dobro = arr * 2\n",
        "print(\"Dobro de cada elemento:\", dobro)\n",
        "\n",
        "quadrado = arr ** 2\n",
        "print(\"Quadrado de cada elemento:\", quadrado)"
      ]
    },
    {
      "cell_type": "code",
      "execution_count": 5,
      "id": "674ac065",
      "metadata": {
        "colab": {
          "base_uri": "https://localhost:8080/"
        },
        "id": "674ac065",
        "outputId": "8b78f241-bda3-47fe-ed35-e6d971a52a63"
      },
      "outputs": [
        {
          "output_type": "stream",
          "name": "stdout",
          "text": [
            "Primeiro elemento: 1\n",
            "Últimos dois elementos: [3 4]\n"
          ]
        }
      ],
      "source": [
        "# Indexação e Fatiamento (slicing)\n",
        "print(\"Primeiro elemento:\", arr[0])\n",
        "print(\"Últimos dois elementos:\", arr[-2:])"
      ]
    },
    {
      "cell_type": "code",
      "execution_count": 6,
      "id": "7a78c485",
      "metadata": {
        "colab": {
          "base_uri": "https://localhost:8080/"
        },
        "id": "7a78c485",
        "outputId": "b208e0b4-1e57-48da-d61e-9083426f131e"
      },
      "outputs": [
        {
          "output_type": "stream",
          "name": "stdout",
          "text": [
            "Valores maiores que 2: [3 4]\n"
          ]
        }
      ],
      "source": [
        "# Filtrando valores com boolean masking\n",
        "print(\"Valores maiores que 2:\", arr[arr > 2])"
      ]
    },
    {
      "cell_type": "code",
      "execution_count": 7,
      "id": "88938b45",
      "metadata": {
        "colab": {
          "base_uri": "https://localhost:8080/"
        },
        "id": "88938b45",
        "outputId": "85cc08ba-635a-4491-e45c-2bf8cb3ca6ae"
      },
      "outputs": [
        {
          "output_type": "stream",
          "name": "stdout",
          "text": [
            "Soma: 10\n",
            "Média: 2.5\n",
            "Desvio padrão: 1.118033988749895\n"
          ]
        }
      ],
      "source": [
        "# Estatísticas básicas\n",
        "print(\"Soma:\", arr.sum())\n",
        "print(\"Média:\", arr.mean())\n",
        "print(\"Desvio padrão:\", arr.std())"
      ]
    },
    {
      "cell_type": "markdown",
      "source": [
        "### **Questões**"
      ],
      "metadata": {
        "id": "8FkuFy0zw3j2"
      },
      "id": "8FkuFy0zw3j2"
    },
    {
      "cell_type": "markdown",
      "source": [
        "\n",
        "### 1. **Sequência Misteriosa**\n",
        "\n",
        "Crie um vetor com os 20 primeiros números pares positivos. Em seguida, exiba apenas os múltiplos de 4.\n",
        "\n",
        "---\n",
        "\n",
        "### 2. **Transforme a Temperatura**\n",
        "\n",
        "Você recebeu um vetor com 5 temperaturas em Celsius: `[25, 30, 28, 22, 19]`. Converta todas elas para Fahrenheit usando a fórmula: `F = C * 1.8 + 32`.\n",
        "\n",
        "---\n",
        "\n",
        "### 3. **Custo Total de Produtos**\n",
        "\n",
        "Um supermercado tem 5 produtos. Os preços estão em um vetor `precos = [10.0, 20.0, 5.0, 8.0, 15.0]` e as quantidades compradas em `quantidades = [2, 1, 4, 3, 1]`. Calcule o custo total da compra.\n",
        "\n",
        "---\n",
        "\n",
        "### 4. **Desempenho de Alunos**\n",
        "\n",
        "Dado o vetor `notas = [6.5, 7.0, 8.2, 5.5, 9.0]`, calcule:\n",
        "\n",
        "* A nota média da turma\n",
        "* Quantos alunos tiraram nota maior que 7.0\n",
        "\n",
        "---\n",
        "\n",
        "### 5. **Sensor de Pressão**\n",
        "\n",
        "Simule a leitura de um sensor de pressão com 10 valores aleatórios entre 100 e 200. Mostre:\n",
        "\n",
        "* O maior valor lido\n",
        "* O menor valor\n",
        "* A média das pressões\n",
        "\n",
        "---\n",
        "\n",
        "### 6. **Quem passou?**\n",
        "\n",
        "Dado o vetor `notas = [4.5, 6.0, 7.8, 3.0, 8.5, 9.2, 5.0]`, crie um novo vetor com 1 para \"Aprovado\" (nota >= 6) e 0 para \"Reprovado\".\n",
        "\n",
        "---\n",
        "\n",
        "### 7. **Explorador de Matrizes**\n",
        "\n",
        "Crie uma matriz `3x4` com os números de 1 a 12. Depois:\n",
        "\n",
        "* Exiba a segunda linha completa\n",
        "* Exiba a terceira coluna completa\n",
        "* Exiba o número que está na 1ª linha, 4ª coluna\n"
      ],
      "metadata": {
        "id": "U7ocutkpw6AY"
      },
      "id": "U7ocutkpw6AY"
    },
    {
      "cell_type": "markdown",
      "id": "177df9b6",
      "metadata": {
        "id": "177df9b6"
      },
      "source": [
        "## Parte 2 – Pandas (Análise de Dados)\n",
        "Pandas é uma biblioteca poderosa para trabalhar com tabelas de dados (como planilhas do Excel ou arquivos CSV)."
      ]
    },
    {
      "cell_type": "code",
      "execution_count": 10,
      "id": "dcb5ed7a",
      "metadata": {
        "colab": {
          "base_uri": "https://localhost:8080/",
          "height": 217
        },
        "id": "dcb5ed7a",
        "outputId": "2e016689-2cc5-40ff-88f9-21cd63381c79"
      },
      "outputs": [
        {
          "output_type": "stream",
          "name": "stdout",
          "text": [
            "     Nome  Idade  Nota\n",
            "0     Ana     25   8.5\n",
            "1   Bruno     30   7.0\n",
            "2  Carlos     22   9.2\n"
          ]
        },
        {
          "output_type": "execute_result",
          "data": {
            "text/plain": [
              "     Nome  Idade  Nota\n",
              "0     Ana     25   8.5\n",
              "1   Bruno     30   7.0\n",
              "2  Carlos     22   9.2"
            ],
            "text/html": [
              "\n",
              "  <div id=\"df-59956dd3-dc29-4894-8efb-f9ee47fb650a\" class=\"colab-df-container\">\n",
              "    <div>\n",
              "<style scoped>\n",
              "    .dataframe tbody tr th:only-of-type {\n",
              "        vertical-align: middle;\n",
              "    }\n",
              "\n",
              "    .dataframe tbody tr th {\n",
              "        vertical-align: top;\n",
              "    }\n",
              "\n",
              "    .dataframe thead th {\n",
              "        text-align: right;\n",
              "    }\n",
              "</style>\n",
              "<table border=\"1\" class=\"dataframe\">\n",
              "  <thead>\n",
              "    <tr style=\"text-align: right;\">\n",
              "      <th></th>\n",
              "      <th>Nome</th>\n",
              "      <th>Idade</th>\n",
              "      <th>Nota</th>\n",
              "    </tr>\n",
              "  </thead>\n",
              "  <tbody>\n",
              "    <tr>\n",
              "      <th>0</th>\n",
              "      <td>Ana</td>\n",
              "      <td>25</td>\n",
              "      <td>8.5</td>\n",
              "    </tr>\n",
              "    <tr>\n",
              "      <th>1</th>\n",
              "      <td>Bruno</td>\n",
              "      <td>30</td>\n",
              "      <td>7.0</td>\n",
              "    </tr>\n",
              "    <tr>\n",
              "      <th>2</th>\n",
              "      <td>Carlos</td>\n",
              "      <td>22</td>\n",
              "      <td>9.2</td>\n",
              "    </tr>\n",
              "  </tbody>\n",
              "</table>\n",
              "</div>\n",
              "    <div class=\"colab-df-buttons\">\n",
              "\n",
              "  <div class=\"colab-df-container\">\n",
              "    <button class=\"colab-df-convert\" onclick=\"convertToInteractive('df-59956dd3-dc29-4894-8efb-f9ee47fb650a')\"\n",
              "            title=\"Convert this dataframe to an interactive table.\"\n",
              "            style=\"display:none;\">\n",
              "\n",
              "  <svg xmlns=\"http://www.w3.org/2000/svg\" height=\"24px\" viewBox=\"0 -960 960 960\">\n",
              "    <path d=\"M120-120v-720h720v720H120Zm60-500h600v-160H180v160Zm220 220h160v-160H400v160Zm0 220h160v-160H400v160ZM180-400h160v-160H180v160Zm440 0h160v-160H620v160ZM180-180h160v-160H180v160Zm440 0h160v-160H620v160Z\"/>\n",
              "  </svg>\n",
              "    </button>\n",
              "\n",
              "  <style>\n",
              "    .colab-df-container {\n",
              "      display:flex;\n",
              "      gap: 12px;\n",
              "    }\n",
              "\n",
              "    .colab-df-convert {\n",
              "      background-color: #E8F0FE;\n",
              "      border: none;\n",
              "      border-radius: 50%;\n",
              "      cursor: pointer;\n",
              "      display: none;\n",
              "      fill: #1967D2;\n",
              "      height: 32px;\n",
              "      padding: 0 0 0 0;\n",
              "      width: 32px;\n",
              "    }\n",
              "\n",
              "    .colab-df-convert:hover {\n",
              "      background-color: #E2EBFA;\n",
              "      box-shadow: 0px 1px 2px rgba(60, 64, 67, 0.3), 0px 1px 3px 1px rgba(60, 64, 67, 0.15);\n",
              "      fill: #174EA6;\n",
              "    }\n",
              "\n",
              "    .colab-df-buttons div {\n",
              "      margin-bottom: 4px;\n",
              "    }\n",
              "\n",
              "    [theme=dark] .colab-df-convert {\n",
              "      background-color: #3B4455;\n",
              "      fill: #D2E3FC;\n",
              "    }\n",
              "\n",
              "    [theme=dark] .colab-df-convert:hover {\n",
              "      background-color: #434B5C;\n",
              "      box-shadow: 0px 1px 3px 1px rgba(0, 0, 0, 0.15);\n",
              "      filter: drop-shadow(0px 1px 2px rgba(0, 0, 0, 0.3));\n",
              "      fill: #FFFFFF;\n",
              "    }\n",
              "  </style>\n",
              "\n",
              "    <script>\n",
              "      const buttonEl =\n",
              "        document.querySelector('#df-59956dd3-dc29-4894-8efb-f9ee47fb650a button.colab-df-convert');\n",
              "      buttonEl.style.display =\n",
              "        google.colab.kernel.accessAllowed ? 'block' : 'none';\n",
              "\n",
              "      async function convertToInteractive(key) {\n",
              "        const element = document.querySelector('#df-59956dd3-dc29-4894-8efb-f9ee47fb650a');\n",
              "        const dataTable =\n",
              "          await google.colab.kernel.invokeFunction('convertToInteractive',\n",
              "                                                    [key], {});\n",
              "        if (!dataTable) return;\n",
              "\n",
              "        const docLinkHtml = 'Like what you see? Visit the ' +\n",
              "          '<a target=\"_blank\" href=https://colab.research.google.com/notebooks/data_table.ipynb>data table notebook</a>'\n",
              "          + ' to learn more about interactive tables.';\n",
              "        element.innerHTML = '';\n",
              "        dataTable['output_type'] = 'display_data';\n",
              "        await google.colab.output.renderOutput(dataTable, element);\n",
              "        const docLink = document.createElement('div');\n",
              "        docLink.innerHTML = docLinkHtml;\n",
              "        element.appendChild(docLink);\n",
              "      }\n",
              "    </script>\n",
              "  </div>\n",
              "\n",
              "\n",
              "    <div id=\"df-e1ec480d-4884-4df6-8ec3-92f3c613a38a\">\n",
              "      <button class=\"colab-df-quickchart\" onclick=\"quickchart('df-e1ec480d-4884-4df6-8ec3-92f3c613a38a')\"\n",
              "                title=\"Suggest charts\"\n",
              "                style=\"display:none;\">\n",
              "\n",
              "<svg xmlns=\"http://www.w3.org/2000/svg\" height=\"24px\"viewBox=\"0 0 24 24\"\n",
              "     width=\"24px\">\n",
              "    <g>\n",
              "        <path d=\"M19 3H5c-1.1 0-2 .9-2 2v14c0 1.1.9 2 2 2h14c1.1 0 2-.9 2-2V5c0-1.1-.9-2-2-2zM9 17H7v-7h2v7zm4 0h-2V7h2v10zm4 0h-2v-4h2v4z\"/>\n",
              "    </g>\n",
              "</svg>\n",
              "      </button>\n",
              "\n",
              "<style>\n",
              "  .colab-df-quickchart {\n",
              "      --bg-color: #E8F0FE;\n",
              "      --fill-color: #1967D2;\n",
              "      --hover-bg-color: #E2EBFA;\n",
              "      --hover-fill-color: #174EA6;\n",
              "      --disabled-fill-color: #AAA;\n",
              "      --disabled-bg-color: #DDD;\n",
              "  }\n",
              "\n",
              "  [theme=dark] .colab-df-quickchart {\n",
              "      --bg-color: #3B4455;\n",
              "      --fill-color: #D2E3FC;\n",
              "      --hover-bg-color: #434B5C;\n",
              "      --hover-fill-color: #FFFFFF;\n",
              "      --disabled-bg-color: #3B4455;\n",
              "      --disabled-fill-color: #666;\n",
              "  }\n",
              "\n",
              "  .colab-df-quickchart {\n",
              "    background-color: var(--bg-color);\n",
              "    border: none;\n",
              "    border-radius: 50%;\n",
              "    cursor: pointer;\n",
              "    display: none;\n",
              "    fill: var(--fill-color);\n",
              "    height: 32px;\n",
              "    padding: 0;\n",
              "    width: 32px;\n",
              "  }\n",
              "\n",
              "  .colab-df-quickchart:hover {\n",
              "    background-color: var(--hover-bg-color);\n",
              "    box-shadow: 0 1px 2px rgba(60, 64, 67, 0.3), 0 1px 3px 1px rgba(60, 64, 67, 0.15);\n",
              "    fill: var(--button-hover-fill-color);\n",
              "  }\n",
              "\n",
              "  .colab-df-quickchart-complete:disabled,\n",
              "  .colab-df-quickchart-complete:disabled:hover {\n",
              "    background-color: var(--disabled-bg-color);\n",
              "    fill: var(--disabled-fill-color);\n",
              "    box-shadow: none;\n",
              "  }\n",
              "\n",
              "  .colab-df-spinner {\n",
              "    border: 2px solid var(--fill-color);\n",
              "    border-color: transparent;\n",
              "    border-bottom-color: var(--fill-color);\n",
              "    animation:\n",
              "      spin 1s steps(1) infinite;\n",
              "  }\n",
              "\n",
              "  @keyframes spin {\n",
              "    0% {\n",
              "      border-color: transparent;\n",
              "      border-bottom-color: var(--fill-color);\n",
              "      border-left-color: var(--fill-color);\n",
              "    }\n",
              "    20% {\n",
              "      border-color: transparent;\n",
              "      border-left-color: var(--fill-color);\n",
              "      border-top-color: var(--fill-color);\n",
              "    }\n",
              "    30% {\n",
              "      border-color: transparent;\n",
              "      border-left-color: var(--fill-color);\n",
              "      border-top-color: var(--fill-color);\n",
              "      border-right-color: var(--fill-color);\n",
              "    }\n",
              "    40% {\n",
              "      border-color: transparent;\n",
              "      border-right-color: var(--fill-color);\n",
              "      border-top-color: var(--fill-color);\n",
              "    }\n",
              "    60% {\n",
              "      border-color: transparent;\n",
              "      border-right-color: var(--fill-color);\n",
              "    }\n",
              "    80% {\n",
              "      border-color: transparent;\n",
              "      border-right-color: var(--fill-color);\n",
              "      border-bottom-color: var(--fill-color);\n",
              "    }\n",
              "    90% {\n",
              "      border-color: transparent;\n",
              "      border-bottom-color: var(--fill-color);\n",
              "    }\n",
              "  }\n",
              "</style>\n",
              "\n",
              "      <script>\n",
              "        async function quickchart(key) {\n",
              "          const quickchartButtonEl =\n",
              "            document.querySelector('#' + key + ' button');\n",
              "          quickchartButtonEl.disabled = true;  // To prevent multiple clicks.\n",
              "          quickchartButtonEl.classList.add('colab-df-spinner');\n",
              "          try {\n",
              "            const charts = await google.colab.kernel.invokeFunction(\n",
              "                'suggestCharts', [key], {});\n",
              "          } catch (error) {\n",
              "            console.error('Error during call to suggestCharts:', error);\n",
              "          }\n",
              "          quickchartButtonEl.classList.remove('colab-df-spinner');\n",
              "          quickchartButtonEl.classList.add('colab-df-quickchart-complete');\n",
              "        }\n",
              "        (() => {\n",
              "          let quickchartButtonEl =\n",
              "            document.querySelector('#df-e1ec480d-4884-4df6-8ec3-92f3c613a38a button');\n",
              "          quickchartButtonEl.style.display =\n",
              "            google.colab.kernel.accessAllowed ? 'block' : 'none';\n",
              "        })();\n",
              "      </script>\n",
              "    </div>\n",
              "\n",
              "  <div id=\"id_9828dabb-ea5e-496a-a6a6-c2a3b0506b70\">\n",
              "    <style>\n",
              "      .colab-df-generate {\n",
              "        background-color: #E8F0FE;\n",
              "        border: none;\n",
              "        border-radius: 50%;\n",
              "        cursor: pointer;\n",
              "        display: none;\n",
              "        fill: #1967D2;\n",
              "        height: 32px;\n",
              "        padding: 0 0 0 0;\n",
              "        width: 32px;\n",
              "      }\n",
              "\n",
              "      .colab-df-generate:hover {\n",
              "        background-color: #E2EBFA;\n",
              "        box-shadow: 0px 1px 2px rgba(60, 64, 67, 0.3), 0px 1px 3px 1px rgba(60, 64, 67, 0.15);\n",
              "        fill: #174EA6;\n",
              "      }\n",
              "\n",
              "      [theme=dark] .colab-df-generate {\n",
              "        background-color: #3B4455;\n",
              "        fill: #D2E3FC;\n",
              "      }\n",
              "\n",
              "      [theme=dark] .colab-df-generate:hover {\n",
              "        background-color: #434B5C;\n",
              "        box-shadow: 0px 1px 3px 1px rgba(0, 0, 0, 0.15);\n",
              "        filter: drop-shadow(0px 1px 2px rgba(0, 0, 0, 0.3));\n",
              "        fill: #FFFFFF;\n",
              "      }\n",
              "    </style>\n",
              "    <button class=\"colab-df-generate\" onclick=\"generateWithVariable('df')\"\n",
              "            title=\"Generate code using this dataframe.\"\n",
              "            style=\"display:none;\">\n",
              "\n",
              "  <svg xmlns=\"http://www.w3.org/2000/svg\" height=\"24px\"viewBox=\"0 0 24 24\"\n",
              "       width=\"24px\">\n",
              "    <path d=\"M7,19H8.4L18.45,9,17,7.55,7,17.6ZM5,21V16.75L18.45,3.32a2,2,0,0,1,2.83,0l1.4,1.43a1.91,1.91,0,0,1,.58,1.4,1.91,1.91,0,0,1-.58,1.4L9.25,21ZM18.45,9,17,7.55Zm-12,3A5.31,5.31,0,0,0,4.9,8.1,5.31,5.31,0,0,0,1,6.5,5.31,5.31,0,0,0,4.9,4.9,5.31,5.31,0,0,0,6.5,1,5.31,5.31,0,0,0,8.1,4.9,5.31,5.31,0,0,0,12,6.5,5.46,5.46,0,0,0,6.5,12Z\"/>\n",
              "  </svg>\n",
              "    </button>\n",
              "    <script>\n",
              "      (() => {\n",
              "      const buttonEl =\n",
              "        document.querySelector('#id_9828dabb-ea5e-496a-a6a6-c2a3b0506b70 button.colab-df-generate');\n",
              "      buttonEl.style.display =\n",
              "        google.colab.kernel.accessAllowed ? 'block' : 'none';\n",
              "\n",
              "      buttonEl.onclick = () => {\n",
              "        google.colab.notebook.generateWithVariable('df');\n",
              "      }\n",
              "      })();\n",
              "    </script>\n",
              "  </div>\n",
              "\n",
              "    </div>\n",
              "  </div>\n"
            ],
            "application/vnd.google.colaboratory.intrinsic+json": {
              "type": "dataframe",
              "variable_name": "df",
              "summary": "{\n  \"name\": \"df\",\n  \"rows\": 3,\n  \"fields\": [\n    {\n      \"column\": \"Nome\",\n      \"properties\": {\n        \"dtype\": \"string\",\n        \"num_unique_values\": 3,\n        \"samples\": [\n          \"Ana\",\n          \"Bruno\",\n          \"Carlos\"\n        ],\n        \"semantic_type\": \"\",\n        \"description\": \"\"\n      }\n    },\n    {\n      \"column\": \"Idade\",\n      \"properties\": {\n        \"dtype\": \"number\",\n        \"std\": 4,\n        \"min\": 22,\n        \"max\": 30,\n        \"num_unique_values\": 3,\n        \"samples\": [\n          25,\n          30,\n          22\n        ],\n        \"semantic_type\": \"\",\n        \"description\": \"\"\n      }\n    },\n    {\n      \"column\": \"Nota\",\n      \"properties\": {\n        \"dtype\": \"number\",\n        \"std\": 1.123981020005824,\n        \"min\": 7.0,\n        \"max\": 9.2,\n        \"num_unique_values\": 3,\n        \"samples\": [\n          8.5,\n          7.0,\n          9.2\n        ],\n        \"semantic_type\": \"\",\n        \"description\": \"\"\n      }\n    }\n  ]\n}"
            }
          },
          "metadata": {},
          "execution_count": 10
        }
      ],
      "source": [
        "import pandas as pd\n",
        "\n",
        "# Criando uma tabela com dados fictícios\n",
        "dados = {\n",
        "    'Nome': ['Ana', 'Bruno', 'Carlos'],\n",
        "    'Idade': [25, 30, 22],\n",
        "    'Nota': [8.5, 7.0, 9.2]\n",
        "}\n",
        "\n",
        "df = pd.DataFrame(dados)\n",
        "print(df)\n",
        "df"
      ]
    },
    {
      "cell_type": "code",
      "execution_count": 11,
      "id": "8a7c7a59",
      "metadata": {
        "colab": {
          "base_uri": "https://localhost:8080/",
          "height": 270
        },
        "id": "8a7c7a59",
        "outputId": "3807f1a1-d58d-4d5e-f751-98b7b8cb524d"
      },
      "outputs": [
        {
          "output_type": "stream",
          "name": "stdout",
          "text": [
            "Notas:\n",
            "0    8.5\n",
            "1    7.0\n",
            "2    9.2\n",
            "Name: Nota, dtype: float64\n"
          ]
        },
        {
          "output_type": "execute_result",
          "data": {
            "text/plain": [
              "0    8.5\n",
              "1    7.0\n",
              "2    9.2\n",
              "Name: Nota, dtype: float64"
            ],
            "text/html": [
              "<div>\n",
              "<style scoped>\n",
              "    .dataframe tbody tr th:only-of-type {\n",
              "        vertical-align: middle;\n",
              "    }\n",
              "\n",
              "    .dataframe tbody tr th {\n",
              "        vertical-align: top;\n",
              "    }\n",
              "\n",
              "    .dataframe thead th {\n",
              "        text-align: right;\n",
              "    }\n",
              "</style>\n",
              "<table border=\"1\" class=\"dataframe\">\n",
              "  <thead>\n",
              "    <tr style=\"text-align: right;\">\n",
              "      <th></th>\n",
              "      <th>Nota</th>\n",
              "    </tr>\n",
              "  </thead>\n",
              "  <tbody>\n",
              "    <tr>\n",
              "      <th>0</th>\n",
              "      <td>8.5</td>\n",
              "    </tr>\n",
              "    <tr>\n",
              "      <th>1</th>\n",
              "      <td>7.0</td>\n",
              "    </tr>\n",
              "    <tr>\n",
              "      <th>2</th>\n",
              "      <td>9.2</td>\n",
              "    </tr>\n",
              "  </tbody>\n",
              "</table>\n",
              "</div><br><label><b>dtype:</b> float64</label>"
            ]
          },
          "metadata": {},
          "execution_count": 11
        }
      ],
      "source": [
        "# Selecionando uma coluna\n",
        "print(\"Notas:\")\n",
        "print(df['Nota'])\n",
        "df['Nota']"
      ]
    },
    {
      "cell_type": "code",
      "execution_count": 12,
      "id": "a05310bb",
      "metadata": {
        "colab": {
          "base_uri": "https://localhost:8080/"
        },
        "id": "a05310bb",
        "outputId": "d0d04cd1-76ae-44f3-9505-eb4e93892928"
      },
      "outputs": [
        {
          "output_type": "stream",
          "name": "stdout",
          "text": [
            "     Nome  Idade  Nota\n",
            "0     Ana     25   8.5\n",
            "2  Carlos     22   9.2\n"
          ]
        }
      ],
      "source": [
        "# Filtrando alunos com nota acima de 8\n",
        "print(df[df['Nota'] > 8])"
      ]
    },
    {
      "cell_type": "code",
      "execution_count": 13,
      "id": "3d00844d",
      "metadata": {
        "colab": {
          "base_uri": "https://localhost:8080/"
        },
        "id": "3d00844d",
        "outputId": "a2d2f9e5-775e-4802-9c02-352b1e99a453"
      },
      "outputs": [
        {
          "output_type": "stream",
          "name": "stdout",
          "text": [
            "     Nome  Idade  Nota    Status\n",
            "0     Ana     25   8.5  Aprovado\n",
            "1   Bruno     30   7.0  Aprovado\n",
            "2  Carlos     22   9.2  Aprovado\n"
          ]
        }
      ],
      "source": [
        "# Adicionando uma nova coluna chamada \"Status\"\n",
        "df['Status'] = ['Aprovado' if nota >= 7 else 'Reprovado' for nota in df['Nota']]\n",
        "print(df)"
      ]
    },
    {
      "cell_type": "code",
      "execution_count": 14,
      "id": "38baa847",
      "metadata": {
        "colab": {
          "base_uri": "https://localhost:8080/"
        },
        "id": "38baa847",
        "outputId": "69f74758-728e-4940-e905-606b071bf9bc"
      },
      "outputs": [
        {
          "output_type": "stream",
          "name": "stdout",
          "text": [
            "Média das notas: 8.233333333333333\n"
          ]
        }
      ],
      "source": [
        "# Cálculo de estatísticas\n",
        "print(\"Média das notas:\", df['Nota'].mean())"
      ]
    },
    {
      "cell_type": "markdown",
      "source": [
        "### **Questões**\n",
        "\n",
        "### 1. **Cadastro de Alunos**\n",
        "\n",
        "Crie um `DataFrame` com os seguintes dados de 3 alunos: Nome, Idade, Curso. Depois, exiba:\n",
        "\n",
        "* A lista de colunas\n",
        "* O número total de linhas\n",
        "\n",
        "---\n",
        "\n",
        "### 2. **Notas da Turma**\n",
        "\n",
        "Monte um `DataFrame` com 5 alunos e suas notas em Matemática. Em seguida:\n",
        "\n",
        "* Calcule a média geral\n",
        "* Liste os alunos que tiraram acima de 7.0\n",
        "\n",
        "---\n",
        "\n",
        "### 3. **Estoque de Produtos**\n",
        "\n",
        "Crie um `DataFrame` com 4 produtos, seus preços e quantidades em estoque. Calcule:\n",
        "\n",
        "* O valor total de cada item (preço × quantidade)\n",
        "* O valor total do estoque\n",
        "\n",
        "---\n",
        "\n",
        "### 4. **Filtrando uma Planilha**\n",
        "\n",
        "Dado um `DataFrame` com filmes (nome, ano, gênero, nota), mostre:\n",
        "\n",
        "* Apenas os filmes lançados depois de 2010\n",
        "* Apenas os filmes de gênero \"Ação\"\n",
        "\n",
        "---\n",
        "\n",
        "### 5. **Planilha com Dados Faltando**\n",
        "\n",
        "Crie um `DataFrame` com alguns valores `None` nas colunas \"nome\" e \"nota\". Use:\n",
        "\n",
        "* `isnull()` para verificar onde estão os valores ausentes\n",
        "* `fillna()` para preencher os nomes com \"Desconhecido\" e as notas com a média\n",
        "\n",
        "---\n",
        "\n",
        "### 6. **Organizando uma Tabela**\n",
        "\n",
        "Crie um `DataFrame` com dados embaralhados e:\n",
        "\n",
        "* Ordene pela coluna \"idade\", do mais novo para o mais velho\n",
        "* Ordene pela coluna \"nota\", do maior para o menor\n",
        "\n",
        "---\n",
        "\n",
        "### 7. **Cálculo por Grupo**\n",
        "\n",
        "Crie uma coluna “curso” e use `groupby()` para:\n",
        "\n",
        "* Calcular a média de notas por curso\n",
        "\n",
        "---\n",
        "\n",
        "### 8. **Adicionando e Removendo Colunas**\n",
        "\n",
        "Adicione uma nova coluna chamada `status` com valores `\"Ativo\"`. Depois, remova essa coluna do `DataFrame`.\n",
        "\n",
        "---\n",
        "\n",
        "### 9. **Contando Categorias**\n",
        "\n",
        "Dado um `DataFrame` com uma coluna de gêneros musicais (ex: 'Rock', 'Pop', 'Sertanejo', 'Rock', 'Pop'), conte:\n",
        "\n",
        "* Quantas vezes aparece cada gênero com `value_counts()`\n",
        "\n",
        "---\n",
        "\n",
        "### 10. **Leitura de Arquivo CSV (simulada)**\n",
        "\n",
        "Simule a leitura de um arquivo `.csv` criando um `DataFrame` com dados de cidades (nome, população, estado). Depois:\n",
        "\n",
        "* Exiba as 3 primeiras linhas com `head()`\n",
        "* Exiba as últimas 2 linhas com `tail()`\n"
      ],
      "metadata": {
        "id": "16sCcptaxReD"
      },
      "id": "16sCcptaxReD"
    },
    {
      "cell_type": "markdown",
      "id": "6b29c7b7",
      "metadata": {
        "id": "6b29c7b7"
      },
      "source": [
        "## Parte 3 – Manipulação de Strings e Dados Categóricos\n",
        "Essencial para preparar os dados antes de usar modelos de IA."
      ]
    },
    {
      "cell_type": "code",
      "execution_count": 15,
      "id": "9794f13a",
      "metadata": {
        "colab": {
          "base_uri": "https://localhost:8080/"
        },
        "id": "9794f13a",
        "outputId": "4b8af735-94d1-4d58-cb91-a6b0da07ece7"
      },
      "outputs": [
        {
          "output_type": "stream",
          "name": "stdout",
          "text": [
            "Texto limpo: olá, mundo python é legal.\n"
          ]
        }
      ],
      "source": [
        "# Manipulando texto\n",
        "texto = \"  Olá, Mundo! Python é legal.  \"\n",
        "texto = texto.strip().lower().replace(\"!\", \"\")\n",
        "print(\"Texto limpo:\", texto)"
      ]
    },
    {
      "cell_type": "code",
      "execution_count": 16,
      "id": "a388c181",
      "metadata": {
        "colab": {
          "base_uri": "https://localhost:8080/"
        },
        "id": "a388c181",
        "outputId": "e5e61ec6-b053-4b0d-9ecf-4c3ff43a5b24"
      },
      "outputs": [
        {
          "output_type": "stream",
          "name": "stdout",
          "text": [
            "Palavras: ['olá,', 'mundo', 'python', 'é', 'legal.']\n"
          ]
        }
      ],
      "source": [
        "# Separando palavras\n",
        "palavras = texto.split()\n",
        "print(\"Palavras:\", palavras)"
      ]
    },
    {
      "cell_type": "code",
      "execution_count": 17,
      "id": "e5852408",
      "metadata": {
        "colab": {
          "base_uri": "https://localhost:8080/"
        },
        "id": "e5852408",
        "outputId": "32d5f650-db3a-4de8-c97d-3cd86d74451d"
      },
      "outputs": [
        {
          "output_type": "stream",
          "name": "stdout",
          "text": [
            "     Animal\n",
            "0  cachorro\n",
            "1      gato\n",
            "2      gato\n",
            "3   pássaro\n"
          ]
        }
      ],
      "source": [
        "# Criando dados categóricos\n",
        "animais = pd.DataFrame({'Animal': ['cachorro', 'gato', 'gato', 'pássaro']})\n",
        "print(animais)"
      ]
    },
    {
      "cell_type": "code",
      "execution_count": 18,
      "id": "49c9596f",
      "metadata": {
        "colab": {
          "base_uri": "https://localhost:8080/",
          "height": 175
        },
        "id": "49c9596f",
        "outputId": "8bd852bf-0cc5-4d92-dc21-b0d1ae3aa084"
      },
      "outputs": [
        {
          "output_type": "execute_result",
          "data": {
            "text/plain": [
              "   Animal_cachorro  Animal_gato  Animal_pássaro\n",
              "0             True        False           False\n",
              "1            False         True           False\n",
              "2            False         True           False\n",
              "3            False        False            True"
            ],
            "text/html": [
              "\n",
              "  <div id=\"df-e3d4c08d-cc60-4add-9d0e-1babf80497c2\" class=\"colab-df-container\">\n",
              "    <div>\n",
              "<style scoped>\n",
              "    .dataframe tbody tr th:only-of-type {\n",
              "        vertical-align: middle;\n",
              "    }\n",
              "\n",
              "    .dataframe tbody tr th {\n",
              "        vertical-align: top;\n",
              "    }\n",
              "\n",
              "    .dataframe thead th {\n",
              "        text-align: right;\n",
              "    }\n",
              "</style>\n",
              "<table border=\"1\" class=\"dataframe\">\n",
              "  <thead>\n",
              "    <tr style=\"text-align: right;\">\n",
              "      <th></th>\n",
              "      <th>Animal_cachorro</th>\n",
              "      <th>Animal_gato</th>\n",
              "      <th>Animal_pássaro</th>\n",
              "    </tr>\n",
              "  </thead>\n",
              "  <tbody>\n",
              "    <tr>\n",
              "      <th>0</th>\n",
              "      <td>True</td>\n",
              "      <td>False</td>\n",
              "      <td>False</td>\n",
              "    </tr>\n",
              "    <tr>\n",
              "      <th>1</th>\n",
              "      <td>False</td>\n",
              "      <td>True</td>\n",
              "      <td>False</td>\n",
              "    </tr>\n",
              "    <tr>\n",
              "      <th>2</th>\n",
              "      <td>False</td>\n",
              "      <td>True</td>\n",
              "      <td>False</td>\n",
              "    </tr>\n",
              "    <tr>\n",
              "      <th>3</th>\n",
              "      <td>False</td>\n",
              "      <td>False</td>\n",
              "      <td>True</td>\n",
              "    </tr>\n",
              "  </tbody>\n",
              "</table>\n",
              "</div>\n",
              "    <div class=\"colab-df-buttons\">\n",
              "\n",
              "  <div class=\"colab-df-container\">\n",
              "    <button class=\"colab-df-convert\" onclick=\"convertToInteractive('df-e3d4c08d-cc60-4add-9d0e-1babf80497c2')\"\n",
              "            title=\"Convert this dataframe to an interactive table.\"\n",
              "            style=\"display:none;\">\n",
              "\n",
              "  <svg xmlns=\"http://www.w3.org/2000/svg\" height=\"24px\" viewBox=\"0 -960 960 960\">\n",
              "    <path d=\"M120-120v-720h720v720H120Zm60-500h600v-160H180v160Zm220 220h160v-160H400v160Zm0 220h160v-160H400v160ZM180-400h160v-160H180v160Zm440 0h160v-160H620v160ZM180-180h160v-160H180v160Zm440 0h160v-160H620v160Z\"/>\n",
              "  </svg>\n",
              "    </button>\n",
              "\n",
              "  <style>\n",
              "    .colab-df-container {\n",
              "      display:flex;\n",
              "      gap: 12px;\n",
              "    }\n",
              "\n",
              "    .colab-df-convert {\n",
              "      background-color: #E8F0FE;\n",
              "      border: none;\n",
              "      border-radius: 50%;\n",
              "      cursor: pointer;\n",
              "      display: none;\n",
              "      fill: #1967D2;\n",
              "      height: 32px;\n",
              "      padding: 0 0 0 0;\n",
              "      width: 32px;\n",
              "    }\n",
              "\n",
              "    .colab-df-convert:hover {\n",
              "      background-color: #E2EBFA;\n",
              "      box-shadow: 0px 1px 2px rgba(60, 64, 67, 0.3), 0px 1px 3px 1px rgba(60, 64, 67, 0.15);\n",
              "      fill: #174EA6;\n",
              "    }\n",
              "\n",
              "    .colab-df-buttons div {\n",
              "      margin-bottom: 4px;\n",
              "    }\n",
              "\n",
              "    [theme=dark] .colab-df-convert {\n",
              "      background-color: #3B4455;\n",
              "      fill: #D2E3FC;\n",
              "    }\n",
              "\n",
              "    [theme=dark] .colab-df-convert:hover {\n",
              "      background-color: #434B5C;\n",
              "      box-shadow: 0px 1px 3px 1px rgba(0, 0, 0, 0.15);\n",
              "      filter: drop-shadow(0px 1px 2px rgba(0, 0, 0, 0.3));\n",
              "      fill: #FFFFFF;\n",
              "    }\n",
              "  </style>\n",
              "\n",
              "    <script>\n",
              "      const buttonEl =\n",
              "        document.querySelector('#df-e3d4c08d-cc60-4add-9d0e-1babf80497c2 button.colab-df-convert');\n",
              "      buttonEl.style.display =\n",
              "        google.colab.kernel.accessAllowed ? 'block' : 'none';\n",
              "\n",
              "      async function convertToInteractive(key) {\n",
              "        const element = document.querySelector('#df-e3d4c08d-cc60-4add-9d0e-1babf80497c2');\n",
              "        const dataTable =\n",
              "          await google.colab.kernel.invokeFunction('convertToInteractive',\n",
              "                                                    [key], {});\n",
              "        if (!dataTable) return;\n",
              "\n",
              "        const docLinkHtml = 'Like what you see? Visit the ' +\n",
              "          '<a target=\"_blank\" href=https://colab.research.google.com/notebooks/data_table.ipynb>data table notebook</a>'\n",
              "          + ' to learn more about interactive tables.';\n",
              "        element.innerHTML = '';\n",
              "        dataTable['output_type'] = 'display_data';\n",
              "        await google.colab.output.renderOutput(dataTable, element);\n",
              "        const docLink = document.createElement('div');\n",
              "        docLink.innerHTML = docLinkHtml;\n",
              "        element.appendChild(docLink);\n",
              "      }\n",
              "    </script>\n",
              "  </div>\n",
              "\n",
              "\n",
              "    <div id=\"df-891453d5-2ef4-4c17-8848-963719fd16ed\">\n",
              "      <button class=\"colab-df-quickchart\" onclick=\"quickchart('df-891453d5-2ef4-4c17-8848-963719fd16ed')\"\n",
              "                title=\"Suggest charts\"\n",
              "                style=\"display:none;\">\n",
              "\n",
              "<svg xmlns=\"http://www.w3.org/2000/svg\" height=\"24px\"viewBox=\"0 0 24 24\"\n",
              "     width=\"24px\">\n",
              "    <g>\n",
              "        <path d=\"M19 3H5c-1.1 0-2 .9-2 2v14c0 1.1.9 2 2 2h14c1.1 0 2-.9 2-2V5c0-1.1-.9-2-2-2zM9 17H7v-7h2v7zm4 0h-2V7h2v10zm4 0h-2v-4h2v4z\"/>\n",
              "    </g>\n",
              "</svg>\n",
              "      </button>\n",
              "\n",
              "<style>\n",
              "  .colab-df-quickchart {\n",
              "      --bg-color: #E8F0FE;\n",
              "      --fill-color: #1967D2;\n",
              "      --hover-bg-color: #E2EBFA;\n",
              "      --hover-fill-color: #174EA6;\n",
              "      --disabled-fill-color: #AAA;\n",
              "      --disabled-bg-color: #DDD;\n",
              "  }\n",
              "\n",
              "  [theme=dark] .colab-df-quickchart {\n",
              "      --bg-color: #3B4455;\n",
              "      --fill-color: #D2E3FC;\n",
              "      --hover-bg-color: #434B5C;\n",
              "      --hover-fill-color: #FFFFFF;\n",
              "      --disabled-bg-color: #3B4455;\n",
              "      --disabled-fill-color: #666;\n",
              "  }\n",
              "\n",
              "  .colab-df-quickchart {\n",
              "    background-color: var(--bg-color);\n",
              "    border: none;\n",
              "    border-radius: 50%;\n",
              "    cursor: pointer;\n",
              "    display: none;\n",
              "    fill: var(--fill-color);\n",
              "    height: 32px;\n",
              "    padding: 0;\n",
              "    width: 32px;\n",
              "  }\n",
              "\n",
              "  .colab-df-quickchart:hover {\n",
              "    background-color: var(--hover-bg-color);\n",
              "    box-shadow: 0 1px 2px rgba(60, 64, 67, 0.3), 0 1px 3px 1px rgba(60, 64, 67, 0.15);\n",
              "    fill: var(--button-hover-fill-color);\n",
              "  }\n",
              "\n",
              "  .colab-df-quickchart-complete:disabled,\n",
              "  .colab-df-quickchart-complete:disabled:hover {\n",
              "    background-color: var(--disabled-bg-color);\n",
              "    fill: var(--disabled-fill-color);\n",
              "    box-shadow: none;\n",
              "  }\n",
              "\n",
              "  .colab-df-spinner {\n",
              "    border: 2px solid var(--fill-color);\n",
              "    border-color: transparent;\n",
              "    border-bottom-color: var(--fill-color);\n",
              "    animation:\n",
              "      spin 1s steps(1) infinite;\n",
              "  }\n",
              "\n",
              "  @keyframes spin {\n",
              "    0% {\n",
              "      border-color: transparent;\n",
              "      border-bottom-color: var(--fill-color);\n",
              "      border-left-color: var(--fill-color);\n",
              "    }\n",
              "    20% {\n",
              "      border-color: transparent;\n",
              "      border-left-color: var(--fill-color);\n",
              "      border-top-color: var(--fill-color);\n",
              "    }\n",
              "    30% {\n",
              "      border-color: transparent;\n",
              "      border-left-color: var(--fill-color);\n",
              "      border-top-color: var(--fill-color);\n",
              "      border-right-color: var(--fill-color);\n",
              "    }\n",
              "    40% {\n",
              "      border-color: transparent;\n",
              "      border-right-color: var(--fill-color);\n",
              "      border-top-color: var(--fill-color);\n",
              "    }\n",
              "    60% {\n",
              "      border-color: transparent;\n",
              "      border-right-color: var(--fill-color);\n",
              "    }\n",
              "    80% {\n",
              "      border-color: transparent;\n",
              "      border-right-color: var(--fill-color);\n",
              "      border-bottom-color: var(--fill-color);\n",
              "    }\n",
              "    90% {\n",
              "      border-color: transparent;\n",
              "      border-bottom-color: var(--fill-color);\n",
              "    }\n",
              "  }\n",
              "</style>\n",
              "\n",
              "      <script>\n",
              "        async function quickchart(key) {\n",
              "          const quickchartButtonEl =\n",
              "            document.querySelector('#' + key + ' button');\n",
              "          quickchartButtonEl.disabled = true;  // To prevent multiple clicks.\n",
              "          quickchartButtonEl.classList.add('colab-df-spinner');\n",
              "          try {\n",
              "            const charts = await google.colab.kernel.invokeFunction(\n",
              "                'suggestCharts', [key], {});\n",
              "          } catch (error) {\n",
              "            console.error('Error during call to suggestCharts:', error);\n",
              "          }\n",
              "          quickchartButtonEl.classList.remove('colab-df-spinner');\n",
              "          quickchartButtonEl.classList.add('colab-df-quickchart-complete');\n",
              "        }\n",
              "        (() => {\n",
              "          let quickchartButtonEl =\n",
              "            document.querySelector('#df-891453d5-2ef4-4c17-8848-963719fd16ed button');\n",
              "          quickchartButtonEl.style.display =\n",
              "            google.colab.kernel.accessAllowed ? 'block' : 'none';\n",
              "        })();\n",
              "      </script>\n",
              "    </div>\n",
              "\n",
              "    </div>\n",
              "  </div>\n"
            ],
            "application/vnd.google.colaboratory.intrinsic+json": {
              "type": "dataframe",
              "summary": "{\n  \"name\": \"pd\",\n  \"rows\": 4,\n  \"fields\": [\n    {\n      \"column\": \"Animal_cachorro\",\n      \"properties\": {\n        \"dtype\": \"boolean\",\n        \"num_unique_values\": 2,\n        \"samples\": [\n          false,\n          true\n        ],\n        \"semantic_type\": \"\",\n        \"description\": \"\"\n      }\n    },\n    {\n      \"column\": \"Animal_gato\",\n      \"properties\": {\n        \"dtype\": \"boolean\",\n        \"num_unique_values\": 2,\n        \"samples\": [\n          true,\n          false\n        ],\n        \"semantic_type\": \"\",\n        \"description\": \"\"\n      }\n    },\n    {\n      \"column\": \"Animal_p\\u00e1ssaro\",\n      \"properties\": {\n        \"dtype\": \"boolean\",\n        \"num_unique_values\": 2,\n        \"samples\": [\n          true,\n          false\n        ],\n        \"semantic_type\": \"\",\n        \"description\": \"\"\n      }\n    }\n  ]\n}"
            }
          },
          "metadata": {},
          "execution_count": 18
        }
      ],
      "source": [
        "# Transformando em colunas binárias (One-hot encoding)\n",
        "pd.get_dummies(animais)"
      ]
    },
    {
      "cell_type": "markdown",
      "source": [
        "### **Questões**\n",
        "\n",
        "\n",
        "### 1. **Limpeza de Espaços e Capitalização**\n",
        "\n",
        "Dada a lista de nomes `[' ana ', 'BRUNO', 'Carlos ']`, use `pandas` para:\n",
        "\n",
        "* Remover espaços em branco\n",
        "* Converter todos os nomes para apenas a primeira letra maiúscula\n",
        "\n",
        "---\n",
        "\n",
        "### 2. **Separação de Texto**\n",
        "\n",
        "Crie uma coluna com frases do tipo `'Curso: IA'`, `'Curso: Python'`. Use `.str.split()` para separar o nome do curso em uma nova coluna.\n",
        "\n",
        "---\n",
        "\n",
        "### 3. **Substituição de Caracteres**\n",
        "\n",
        "Crie uma coluna com nomes de cidades com acentos (ex: `'São Luís'`, `'Belo Horizonte'`). Remova os acentos manualmente com `.replace()`.\n",
        "\n",
        "---\n",
        "\n",
        "### 4. **Detecção de Palavras-chave**\n",
        "\n",
        "Crie uma coluna com descrições de produtos e verifique quais linhas contêm a palavra `'inteligente'` usando `.str.contains()`.\n",
        "\n",
        "---\n",
        "\n",
        "### 5. **Conversão de Tudo para Minúsculo**\n",
        "\n",
        "Dada uma lista de respostas de formulário (ex: `'SIM'`, `'sim'`, `'Sim'`, `'sIm'`), normalize todas para `'sim'`.\n",
        "\n",
        "---\n",
        "\n",
        "### 6. **Contagem de Palavras em Frases**\n",
        "\n",
        "Crie uma coluna com avaliações textuais (ex: `'Muito bom!'`, `'Péssimo atendimento'`). Conte quantas palavras existem em cada frase.\n",
        "\n",
        "---\n",
        "\n",
        "### 7. **Combinação de Colunas Textuais**\n",
        "\n",
        "Dado um `DataFrame` com `'nome'` e `'sobrenome'`, crie uma nova coluna `'nome_completo'` concatenando as duas.\n",
        "\n",
        "---\n",
        "\n",
        "### 8. **Verificação de Tamanho de Texto**\n",
        "\n",
        "Crie uma coluna com frases e use `.str.len()` para verificar o tamanho de cada uma (quantidade de caracteres).\n",
        "\n"
      ],
      "metadata": {
        "id": "n0qUURJUyDh4"
      },
      "id": "n0qUURJUyDh4"
    }
  ],
  "metadata": {
    "colab": {
      "provenance": []
    },
    "language_info": {
      "name": "python"
    },
    "kernelspec": {
      "name": "python3",
      "display_name": "Python 3"
    }
  },
  "nbformat": 4,
  "nbformat_minor": 5
}