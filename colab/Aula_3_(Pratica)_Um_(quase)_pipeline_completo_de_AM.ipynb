{
  "cells": [
    {
      "cell_type": "markdown",
      "source": [
        "<img src=\"data:image/png;base64,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\" alt=\"Logo IFPI Corrente\" width=\"300\"/>\n",
        "\n",
        "\n",
        "### PROJETO DE AM - PONTA A PONTA  ###\n",
        "**Instituto Federal do Piauí - Campus Corrente**  \n",
        "**Disciplina:** Inteligência Artificial  \n",
        "**Professor:** Igor Bezerra Reis  \n",
        "**Data:** 3 de abril de 2025\n"
      ],
      "metadata": {
        "id": "uTcNjD0-CMQ9"
      }
    },
    {
      "cell_type": "markdown",
      "source": [
        "## Trabalhando com Dados Reais\n",
        "\n",
        "À medida que você estuda sobre aprendizado de máquina, a melhor coisa é testar os dados do mundo real, e não conjuntos de dados artificiais. Felizmente, existem milhares de conjuntos *open data* (dados abertos) à sua escolha, que variam em todos os tipos de campos de atuação. Veja a seguir onde procurar e obter os dados:\n",
        "\n",
        "- **Repositórios populares de open data**\n",
        "  - [UC Irvine Machine Learning Repository](http://archive.ics.uci.edu/ml/)\n",
        "  - [Conjunto de dados no Kaggle](https://www.kaggle.com/datasets)\n",
        "  - [Conjunto de Dados no AWS da Amazon](https://registry.opendata.aws/)\n",
        "\n",
        "- **Metaportais de dados** (listam os repositórios open data)\n",
        "  - [Data Portals](http://dataportals.org/)\n",
        "  - [OpenDataMonitor](http://opendatamonitor.eu/)\n",
        "  - [Quandl](http://quandl.com/)\n",
        "\n",
        "- **Outras páginas que listam muitos repositórios populares de open data**\n",
        "  - [Lista de conjuntos de dados de aprendizado de máquina do Wikipedia](https://homl.info/9)\n",
        "  - [Quora.com](https://homl.info/10)\n",
        "  - [Conjuntos de dados em subseção do Reddit](https://www.reddit.com/r/datasets)\n"
      ],
      "metadata": {
        "id": "PrFJI1S0DPtd"
      }
    },
    {
      "cell_type": "markdown",
      "source": [
        "## Conjunto de Dados: Housing Prices\n",
        "\n",
        "Neste projeto, utilizaremos o conjunto de dados **[Housing Prices Dataset](https://www.kaggle.com/datasets/yasserh/housing-prices-dataset)**, disponível no Kaggle.\n",
        "\n",
        "Este dataset contém informações detalhadas sobre imóveis, como:\n",
        "\n",
        "- Número de quartos\n",
        "- Tamanho em metros quadrados\n",
        "- Número de banheiros\n",
        "- Presença de garagem\n",
        "- Localização\n",
        "- Valor de venda\n",
        "\n",
        "O objetivo principal será construir um modelo de **regressão supervisionada** capaz de prever o preço de uma casa com base em suas características. Esse tipo de problema é comum em aplicações de precificação automática, avaliação imobiliária e sistemas de recomendação no mercado imobiliário.\n"
      ],
      "metadata": {
        "id": "ZOK8k_lpFVdg"
      }
    },
    {
      "cell_type": "code",
      "execution_count": null,
      "metadata": {
        "id": "UiMDTZET-6ql"
      },
      "outputs": [],
      "source": [
        "import random\n",
        "import numpy  as np"
      ]
    },
    {
      "cell_type": "markdown",
      "metadata": {
        "id": "A2PwWvfL-6qo"
      },
      "source": [
        "### Problema abordado\n",
        "1. Aprendizado supervisioando de regressão multivariada\n",
        "2. Aprendizado em batch já que pegarei os dados farei todo o processor de treinamento e colocarei para produção"
      ]
    },
    {
      "cell_type": "markdown",
      "metadata": {
        "id": "C0SoUftm-6qp"
      },
      "source": [
        "### Erro quadratico medio\n",
        "\n",
        "$RMSE(X,h) = \\sqrt{\\frac{1}{m} \\sum^{m}_{i=1}{h(x^{(i)} - y^{(i)})}}$"
      ]
    },
    {
      "cell_type": "code",
      "execution_count": null,
      "metadata": {
        "id": "9AwQwuLI-6qq"
      },
      "outputs": [],
      "source": [
        "def Mean_Squared_Error(pred,y,squared=True):\n",
        "    rmse = (1/np.size(y))*np.sum(pred-y)\n",
        "    if (squared):\n",
        "        return np.sqrt(rmse)\n",
        "    return rmse"
      ]
    },
    {
      "cell_type": "markdown",
      "metadata": {
        "id": "bUtXUkFW-6qs"
      },
      "source": [
        "### Erro Absoluto Medio\n",
        "$MAE(X,h) = \\frac{1}{m} \\cdot \\sum^{m}_{i=1} | h(x^{(i)} - y^{(i)})|$"
      ]
    },
    {
      "cell_type": "code",
      "execution_count": null,
      "metadata": {
        "id": "b3Ncwppj-6qs"
      },
      "outputs": [],
      "source": [
        "def Mean_Absolute_Error(pred,y):\n",
        "    return (1/np.size(y))*abs(np.sum(pred-y))"
      ]
    },
    {
      "cell_type": "markdown",
      "metadata": {
        "id": "M9qfIp1f-6qt"
      },
      "source": [
        "### Problema"
      ]
    },
    {
      "cell_type": "markdown",
      "source": [
        "**Fazendo o download de forma automática**"
      ],
      "metadata": {
        "id": "RLwHYQ91SNWg"
      }
    },
    {
      "cell_type": "code",
      "source": [
        "import os\n",
        "import tarfile\n",
        "import urllib.request\n",
        "\n",
        "DOWNLOAD_ROOT = \"https://raw.githubusercontent.com/ageron/handson-ml2/master/\"\n",
        "HOUSING_PATH = os.path.join(\"datasets\", \"housing\")\n",
        "HOUSING_URL = DOWNLOAD_ROOT + \"datasets/housing/housing.tgz\"\n",
        "\n",
        "def fetch_housing_data(housing_url=HOUSING_URL, housing_path=HOUSING_PATH):\n",
        "    if not os.path.isdir(housing_path):\n",
        "        os.makedirs(housing_path)\n",
        "    tgz_path = os.path.join(housing_path, \"housing.tgz\")\n",
        "    urllib.request.urlretrieve(housing_url, tgz_path)\n",
        "    housing_tgz = tarfile.open(tgz_path)\n",
        "    housing_tgz.extractall(path=housing_path)\n",
        "    housing_tgz.close()"
      ],
      "metadata": {
        "id": "isDLgxRlRvY6"
      },
      "execution_count": null,
      "outputs": []
    },
    {
      "cell_type": "code",
      "source": [
        "fetch_housing_data()"
      ],
      "metadata": {
        "id": "iUhAohfsR3qg"
      },
      "execution_count": null,
      "outputs": []
    },
    {
      "cell_type": "code",
      "execution_count": null,
      "metadata": {
        "id": "jEKauR9n-6qt"
      },
      "outputs": [],
      "source": [
        "import warnings\n",
        "import copy\n",
        "import pandas as pd\n",
        "import seaborn as sea\n",
        "import matplotlib.pyplot as plt"
      ]
    },
    {
      "cell_type": "code",
      "execution_count": null,
      "metadata": {
        "id": "bu8YdPGk-6qu"
      },
      "outputs": [],
      "source": [
        "warnings.filterwarnings('ignore',category=pd.errors.SettingWithCopyWarning)"
      ]
    },
    {
      "cell_type": "code",
      "execution_count": null,
      "metadata": {
        "id": "wqQ09b3Z-6qu"
      },
      "outputs": [],
      "source": [
        "data = pd.read_csv(r'/content/datasets/housing/housing.csv',sep=',')"
      ]
    },
    {
      "cell_type": "code",
      "execution_count": null,
      "metadata": {
        "id": "iazN-QzU-6qu"
      },
      "outputs": [],
      "source": [
        "data.head(3)"
      ]
    },
    {
      "cell_type": "markdown",
      "metadata": {
        "id": "I5C3KSVN-6qu"
      },
      "source": [
        "&nbsp;"
      ]
    },
    {
      "cell_type": "markdown",
      "metadata": {
        "id": "itmi4EHP-6qu"
      },
      "source": [
        "## Analise dos dados"
      ]
    },
    {
      "cell_type": "code",
      "execution_count": null,
      "metadata": {
        "id": "1KN2L639-6qu"
      },
      "outputs": [],
      "source": [
        "data.info()"
      ]
    },
    {
      "cell_type": "code",
      "source": [
        "data[\"ocean_proximity\"].value_counts()"
      ],
      "metadata": {
        "id": "_Mj5d7ueVJ2w"
      },
      "execution_count": null,
      "outputs": []
    },
    {
      "cell_type": "code",
      "execution_count": null,
      "metadata": {
        "id": "kJCQHPWs-6qu"
      },
      "outputs": [],
      "source": [
        "data.isna().nunique()"
      ]
    },
    {
      "cell_type": "code",
      "execution_count": null,
      "metadata": {
        "id": "VYORqDwq-6qv"
      },
      "outputs": [],
      "source": [
        "data.describe()"
      ]
    },
    {
      "cell_type": "code",
      "execution_count": null,
      "metadata": {
        "id": "USwuxt_p-6qv"
      },
      "outputs": [],
      "source": [
        "fig , axis = plt.subplots(3,3,figsize=(20,10))\n",
        "columns    = data.select_dtypes(exclude=['object']).columns\n",
        "for ax, column in zip(axis.flatten(),columns):\n",
        "    hist = sea.histplot(data[column],ax=ax,bins=50,kde=True)\n",
        "    hist.lines[0].set_color('red')\n",
        "plt.show()"
      ]
    },
    {
      "cell_type": "markdown",
      "metadata": {
        "id": "GT-jrG-Y-6qw"
      },
      "source": [
        "## Pré-processamento"
      ]
    },
    {
      "cell_type": "code",
      "execution_count": null,
      "metadata": {
        "id": "nBLxMh_j-6qw"
      },
      "outputs": [],
      "source": [
        "dataset = data.copy()"
      ]
    },
    {
      "cell_type": "code",
      "execution_count": null,
      "metadata": {
        "id": "Z3MrOdbT-6qw"
      },
      "outputs": [],
      "source": [
        "from sklearn.preprocessing import (\n",
        "    StandardScaler\n",
        ")\n",
        "from sklearn.model_selection import (\n",
        "    GridSearchCV        ,\n",
        "    RandomizedSearchCV  ,\n",
        "    train_test_split    ,\n",
        "    StratifiedShuffleSplit\n",
        ")"
      ]
    },
    {
      "cell_type": "code",
      "execution_count": null,
      "metadata": {
        "id": "LPPaqsw4-6qw"
      },
      "outputs": [],
      "source": [
        "train , test = train_test_split(dataset,test_size=0.2,random_state=42)"
      ]
    },
    {
      "cell_type": "code",
      "execution_count": null,
      "metadata": {
        "id": "ucmt4aNC-6qw"
      },
      "outputs": [],
      "source": [
        "dataset['income_cat'] = pd.cut(\n",
        "    x      = data['median_income'],\n",
        "    bins   = [0,1.5,3.0,4.5,6.,np.inf],\n",
        "    labels = [1,2,3,4,5]\n",
        "    )"
      ]
    },
    {
      "cell_type": "code",
      "execution_count": null,
      "metadata": {
        "id": "ZV6OMJx1-6qx"
      },
      "outputs": [],
      "source": [
        "dataset['income_cat'].hist()\n",
        "plt.show()"
      ]
    },
    {
      "cell_type": "code",
      "execution_count": null,
      "metadata": {
        "id": "4vTmpgBs-6qx"
      },
      "outputs": [],
      "source": [
        "splitStratifed = StratifiedShuffleSplit(n_splits=1,test_size=0.2,random_state=42)\n",
        "\n",
        "for itrain , itest in splitStratifed.split(dataset,dataset['income_cat']):\n",
        "    trainf = dataset.iloc[itrain]\n",
        "    testf  = dataset.iloc[itest]"
      ]
    },
    {
      "cell_type": "code",
      "execution_count": null,
      "metadata": {
        "id": "92jFzJSg-6qx"
      },
      "outputs": [],
      "source": [
        "trainf['income_cat'].value_counts().apply(lambda x: x/len(trainf))"
      ]
    },
    {
      "cell_type": "code",
      "execution_count": null,
      "metadata": {
        "id": "o_Pqm3eo-6qx"
      },
      "outputs": [],
      "source": [
        "housing = trainf.copy()"
      ]
    },
    {
      "cell_type": "code",
      "execution_count": null,
      "metadata": {
        "id": "GYvjd5FA-6q9"
      },
      "outputs": [],
      "source": [
        "fig = plt.scatter(x =housing['latitude'] , y=housing['longitude'],alpha=0.4,s=housing['population']/100,c=housing['median_house_value'],cmap='jet')\n",
        "plt.colorbar(fig)\n",
        "plt.show()"
      ]
    },
    {
      "cell_type": "markdown",
      "source": [
        "**Deixando mais interessante**"
      ],
      "metadata": {
        "id": "UqHPDwJpggnM"
      }
    },
    {
      "cell_type": "code",
      "execution_count": null,
      "metadata": {
        "id": "GcUHmSl8-6q9"
      },
      "outputs": [],
      "source": [
        "plt.figure(figsize=(10,5))\n",
        "sea.heatmap(data.select_dtypes(exclude='object').corr(),annot=True)\n",
        "plt.show()"
      ]
    },
    {
      "cell_type": "markdown",
      "metadata": {
        "id": "We953LEO-6q-"
      },
      "source": [
        "&nbsp;"
      ]
    },
    {
      "cell_type": "markdown",
      "metadata": {
        "id": "MU8V0NiB-6q-"
      },
      "source": [
        "### Preparando os dados"
      ]
    },
    {
      "cell_type": "code",
      "execution_count": null,
      "metadata": {
        "id": "8PPoiTpW-6q-"
      },
      "outputs": [],
      "source": [
        "housing        = trainf.drop(columns=['median_house_value'])\n",
        "housing_labels = trainf['median_house_value']"
      ]
    },
    {
      "cell_type": "markdown",
      "metadata": {
        "id": "e3ZkiDhd-6q-"
      },
      "source": [
        "imputando valores ausentes"
      ]
    },
    {
      "cell_type": "markdown",
      "source": [
        "\n",
        "\n",
        "```\n",
        "# opção 1\n",
        "housing.dropna(subset=[\"total_bedrooms\"])   \n",
        "\n",
        "# opção 2\n",
        "housing.drop(\"total_bedrooms\", axis=1)       \n",
        "\n",
        "# opção 3\n",
        "median = housing[\"total_bedrooms\"].median()\n",
        "housing[\"total_bedrooms\"].fillna(median, inplace=True)\n",
        "```\n",
        "\n"
      ],
      "metadata": {
        "id": "mURQSQWvh2W0"
      }
    },
    {
      "cell_type": "code",
      "execution_count": null,
      "metadata": {
        "id": "5IPTYnGA-6q-"
      },
      "outputs": [],
      "source": [
        "from sklearn.impute import SimpleImputer\n",
        "\n",
        "imputer = SimpleImputer(strategy='median')\n",
        "housing['total_bedrooms'] = imputer.fit_transform(housing['total_bedrooms'].values.reshape(-1,1))"
      ]
    },
    {
      "cell_type": "markdown",
      "metadata": {
        "id": "-BsNXP-A-6q-"
      },
      "source": [
        "Manipulando texto e atributos categoricos"
      ]
    },
    {
      "cell_type": "code",
      "source": [
        "housing[[\"ocean_proximity\"]].head(10)"
      ],
      "metadata": {
        "id": "vwG4W5c4htbT"
      },
      "execution_count": null,
      "outputs": []
    },
    {
      "cell_type": "code",
      "execution_count": null,
      "metadata": {
        "id": "5dr4tEo9-6q-"
      },
      "outputs": [],
      "source": [
        "from sklearn.preprocessing import OrdinalEncoder\n",
        "\n",
        "Ordinal_Encoder = OrdinalEncoder()\n",
        "Ordinal_Encoder.fit_transform(housing['ocean_proximity'].values.reshape(-1,1))"
      ]
    },
    {
      "cell_type": "code",
      "execution_count": null,
      "metadata": {
        "id": "Rp0vbGMT-6q_"
      },
      "outputs": [],
      "source": [
        "from sklearn.preprocessing import OneHotEncoder\n",
        "\n",
        "dummiesSk = OneHotEncoder()\n",
        "array = dummiesSk.fit_transform(housing['ocean_proximity'].values.reshape(-1,1))\n",
        "array.toarray()"
      ]
    },
    {
      "cell_type": "code",
      "source": [
        "housing"
      ],
      "metadata": {
        "id": "VjtfJvdonAUM"
      },
      "execution_count": null,
      "outputs": []
    },
    {
      "cell_type": "markdown",
      "source": [
        "**Padronizando os dados**"
      ],
      "metadata": {
        "id": "cfPWUpgqlpzf"
      }
    },
    {
      "cell_type": "code",
      "source": [
        "from sklearn.pipeline import Pipeline\n",
        "from sklearn.compose import ColumnTransformer\n",
        "from sklearn.preprocessing import StandardScaler, OneHotEncoder\n",
        "from sklearn.impute import SimpleImputer"
      ],
      "metadata": {
        "id": "hJUDx_tEoMoi"
      },
      "execution_count": null,
      "outputs": []
    },
    {
      "cell_type": "code",
      "source": [
        "# Lista das colunas numéricas e categóricas\n",
        "num_atributos = ['longitude', 'latitude', 'housing_median_age', 'total_rooms',\n",
        "                 'total_bedrooms', 'population', 'households', 'median_income']\n",
        "cat_atributos = ['ocean_proximity']"
      ],
      "metadata": {
        "id": "vB8Sx52elsCz"
      },
      "execution_count": null,
      "outputs": []
    },
    {
      "cell_type": "code",
      "source": [
        "# Pipeline numérico simples: imputação + padronização\n",
        "numberPipeline = Pipeline(steps=[\n",
        "    ('imputer', SimpleImputer(strategy='median')),\n",
        "    ('scaler' , StandardScaler())\n",
        "])\n",
        "\n",
        "# Combinando ambos os pipelines\n",
        "fullPipeline = ColumnTransformer(transformers=[\n",
        "    ('num', numberPipeline, num_atributos),\n",
        "    ('cat', OneHotEncoder(), cat_atributos)\n",
        "])"
      ],
      "metadata": {
        "id": "b6wsPutLoiSe"
      },
      "execution_count": null,
      "outputs": []
    },
    {
      "cell_type": "code",
      "source": [
        "housing.drop(columns=['income_cat'], errors='ignore', inplace=True)\n",
        "prepared = fullPipeline.fit_transform(housing)"
      ],
      "metadata": {
        "id": "UFpQy0Y4olIM"
      },
      "execution_count": null,
      "outputs": []
    },
    {
      "cell_type": "code",
      "source": [
        "prepared"
      ],
      "metadata": {
        "id": "9cv-DHfBn9PZ"
      },
      "execution_count": null,
      "outputs": []
    },
    {
      "cell_type": "markdown",
      "metadata": {
        "id": "wAfx3lUc-6rA"
      },
      "source": [
        "### treinando"
      ]
    },
    {
      "cell_type": "code",
      "execution_count": null,
      "metadata": {
        "id": "tddJzx2k-6rA"
      },
      "outputs": [],
      "source": [
        "from sklearn.linear_model import LinearRegression"
      ]
    },
    {
      "cell_type": "code",
      "execution_count": null,
      "metadata": {
        "id": "eZ8J3wUU-6rA"
      },
      "outputs": [],
      "source": [
        "reg = LinearRegression()\n",
        "reg.fit(prepared,housing_labels)"
      ]
    },
    {
      "cell_type": "markdown",
      "source": [
        "**testando**"
      ],
      "metadata": {
        "id": "kS4eQJKPo4lA"
      }
    },
    {
      "cell_type": "code",
      "execution_count": null,
      "metadata": {
        "id": "ycY46KRu-6rA"
      },
      "outputs": [],
      "source": [
        "xtest = housing.iloc[:,:9]\n",
        "pred = reg.predict(fullPipeline.fit_transform(xtest))"
      ]
    },
    {
      "cell_type": "code",
      "execution_count": null,
      "metadata": {
        "id": "U1eIw9M0-6rB"
      },
      "outputs": [],
      "source": [
        "pred"
      ]
    },
    {
      "cell_type": "markdown",
      "source": [
        "calculando o RMSE"
      ],
      "metadata": {
        "id": "Fv0H1XhQpB3l"
      }
    },
    {
      "cell_type": "code",
      "execution_count": null,
      "metadata": {
        "id": "B2dIAF58-6rB"
      },
      "outputs": [],
      "source": [
        "from sklearn.metrics import mean_squared_error\n",
        "\n",
        "lin_mse = mean_squared_error(housing_labels, pred)\n",
        "lin_rmse = np.sqrt(lin_mse)\n",
        "lin_rmse"
      ]
    },
    {
      "cell_type": "markdown",
      "source": [
        "**calculando o MSE**"
      ],
      "metadata": {
        "id": "pO-blCzwpElg"
      }
    },
    {
      "cell_type": "code",
      "execution_count": null,
      "metadata": {
        "id": "Qppii3k6-6rB"
      },
      "outputs": [],
      "source": [
        "from sklearn.metrics import mean_absolute_error\n",
        "\n",
        "lin_mae = mean_absolute_error(housing_labels, pred)\n",
        "lin_mae"
      ]
    },
    {
      "cell_type": "markdown",
      "metadata": {
        "id": "LY8-6Hs3-6rB"
      },
      "source": [
        "**Árvore de Decisão**"
      ]
    },
    {
      "cell_type": "code",
      "execution_count": null,
      "metadata": {
        "id": "7vJKLJzB-6rB"
      },
      "outputs": [],
      "source": [
        "from sklearn.tree import DecisionTreeRegressor"
      ]
    },
    {
      "cell_type": "code",
      "execution_count": null,
      "metadata": {
        "id": "3mNRhMvK-6rC"
      },
      "outputs": [],
      "source": [
        "tree = DecisionTreeRegressor()\n",
        "tree.fit(prepared,housing_labels)"
      ]
    },
    {
      "cell_type": "code",
      "execution_count": null,
      "metadata": {
        "id": "qbNazyFm-6rC"
      },
      "outputs": [],
      "source": [
        "pred = tree.predict(fullPipeline.fit_transform(xtest))"
      ]
    },
    {
      "cell_type": "code",
      "execution_count": null,
      "metadata": {
        "id": "qR-vYOMP-6rC"
      },
      "outputs": [],
      "source": [
        "mean_absolute_error(housing_labels,pred)"
      ]
    },
    {
      "cell_type": "code",
      "execution_count": null,
      "metadata": {
        "id": "n863WU-C-6rD"
      },
      "outputs": [],
      "source": [
        "(mean_squared_error(housing_labels,pred))"
      ]
    },
    {
      "cell_type": "markdown",
      "metadata": {
        "id": "BXoHWcxX-6rD"
      },
      "source": [
        "&nbsp;"
      ]
    }
  ],
  "metadata": {
    "kernelspec": {
      "display_name": "venv",
      "language": "python",
      "name": "python3"
    },
    "language_info": {
      "codemirror_mode": {
        "name": "ipython",
        "version": 3
      },
      "file_extension": ".py",
      "mimetype": "text/x-python",
      "name": "python",
      "nbconvert_exporter": "python",
      "pygments_lexer": "ipython3",
      "version": "3.11.8"
    },
    "colab": {
      "provenance": []
    }
  },
  "nbformat": 4,
  "nbformat_minor": 0
}